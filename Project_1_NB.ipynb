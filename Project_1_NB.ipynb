{
 "cells": [
  {
   "cell_type": "code",
   "execution_count": 10,
   "id": "9ca1469a-f2d2-4f33-af96-c35ac43d779c",
   "metadata": {},
   "outputs": [
    {
     "name": "stdin",
     "output_type": "stream",
     "text": [
      "Please enter your username:  sysadmin\n"
     ]
    },
    {
     "name": "stdout",
     "output_type": "stream",
     "text": [
      "\n",
      "\n",
      "\n",
      "\n",
      "\n",
      "---------Main Menu----------\n",
      "1. List Multibank Client details\n",
      "2. Aggregate Daily Transactions across ALL banks\n",
      "3. Plot Gender and Age profiles of ALL clients\n",
      "4. Geomap of Account locations\n",
      "Q. Quit\n",
      "\n",
      "\n"
     ]
    },
    {
     "name": "stdin",
     "output_type": "stream",
     "text": [
      "Welcome: sysadmin! What do you wish to do today? q\n"
     ]
    }
   ],
   "source": [
    "# Request userid/username from user (can be expanded to include full-fledged Login credentials too)\n",
    "user = \"\"\n",
    "userchoice = \"\"\n",
    "user = input(\"Please enter your username: \")\n",
    "\n",
    "# Define a function `adminoption1` that will be executed when SYSADMIN chooses Menu Option #1.\n",
    "def adminoption1():\n",
    "    print(\"Sys Option #1\")\n",
    "\n",
    "# Define a function `adminoption2` that will be executed when SYSADMIN chooses Menu Option #2.\n",
    "def adminoption2():\n",
    "    print(\"Sys Option #2\")\n",
    "\n",
    "# Define a function `adminoption3` that will be executed when SYSADMIN chooses Menu Option #3.\n",
    "def adminoption3():\n",
    "    print(\"Sys Option #3\")\n",
    "\n",
    "# Define a function `adminoption3` that will be executed when SYSADMIN chooses Menu Option #3.\n",
    "def adminoption4():\n",
    "    print(\"Sys Option #4\")\n",
    "    \n",
    "# Define a function `useroption1` that will be executed when a regular user chooses Menu Option #1.\n",
    "def useroption1():\n",
    "    print(\"Regular User Option #1\")\n",
    "\n",
    "# Define a function `useroption1` that will be executed when a regular user chooses Menu Option #2.\n",
    "def useroption2():\n",
    "    print(\"Regular User Option #2\")\n",
    "\n",
    "# Define a function `useroption1` that will be executed when a regular user chooses Menu Option #3.\n",
    "def useroption3():\n",
    "    print(\"Regular User Option #3\")\n",
    "\n",
    "# Define a function `useroption1` that will be executed when a regular user chooses Menu Option #4.\n",
    "def useroption4():\n",
    "    print(\"Regular User Option #4\")\n",
    "\n",
    "# Define a function `useroption1` that will be executed when a regular user chooses Menu Option #5.\n",
    "def useroption5():\n",
    "    print(\"Regular User Option #5\")\n",
    "\n",
    "if user.upper() == \"SYSADMIN\":\n",
    "    # Loop till 'sysadmin' user chooses to Quit\n",
    "    while userchoice.upper() != \"Q\":\n",
    "        print('\\n\\n\\n\\n\\n---------Main Menu----------')\n",
    "        print(\"1. List details of ALL Multibank Clients.\")\n",
    "        print(\"2. Aggregate Daily Transactions across ALL Banks.\")\n",
    "        print(\"3. Plot Gender and Age profiles of ALL Clients.\")\n",
    "        print(\"4. Geomap of Account Locations.\")\n",
    "        print(\"Q. Quit.\")\n",
    "        print('\\n')\n",
    "        userchoice = input(f\"Welcome: {user}! What do you wish to do today?\")\n",
    "        if userchoice == \"1\":\n",
    "            adminoption1()\n",
    "        elif userchoice == \"2\":\n",
    "            adminoption2()\n",
    "        elif userchoice == \"3\":\n",
    "            adminoption3()\n",
    "        elif userchoice == \"4\":\n",
    "            adminoption4()\n",
    "else:\n",
    "    # Loop till 'regular' user chooses to Quit\n",
    "    while userchoice.upper() != \"Q\":\n",
    "        print('\\n\\n\\n\\n\\n---------Main Menu----------')\n",
    "        print(\"1. List details of all Accounts.\")\n",
    "        print(\"2. Display Consolidated Balances for all Accounts.\")\n",
    "        print(\"3. Display Transaction details for a Date Range.\")\n",
    "        print(\"4. Plot Transaction Volume and Sum of Amounts for a Date Range.\")\n",
    "        print(\"5. What else?\")\n",
    "        print(\"Q. Quit.\")\n",
    "        print('\\n')\n",
    "        userchoice = input(f\"Welcome: {user}! What do you wish to do today?\")\n",
    "        if userchoice == \"1\":\n",
    "            useroption1()\n",
    "        elif userchoice == \"2\":\n",
    "            useroption2()\n",
    "        elif userchoice == \"3\":\n",
    "            useroption3()\n",
    "        elif userchoice == \"4\":\n",
    "            useroption4()\n",
    "        elif userchoice == \"5\":\n",
    "            useroption5()\n",
    " "
   ]
  },
  {
   "cell_type": "code",
   "execution_count": null,
   "id": "466ba95f",
   "metadata": {},
   "outputs": [],
   "source": []
  }
 ],
 "metadata": {
  "kernelspec": {
   "display_name": "Python 3 (ipykernel)",
   "language": "python",
   "name": "python3"
  },
  "language_info": {
   "codemirror_mode": {
    "name": "ipython",
    "version": 3
   },
   "file_extension": ".py",
   "mimetype": "text/x-python",
   "name": "python",
   "nbconvert_exporter": "python",
   "pygments_lexer": "ipython3",
   "version": "3.9.12"
  }
 },
 "nbformat": 4,
 "nbformat_minor": 5
}
